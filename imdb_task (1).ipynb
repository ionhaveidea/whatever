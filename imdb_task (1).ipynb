{
  "cells": [
    {
      "cell_type": "code",
      "execution_count": 3,
      "id": "e3eeeca9-0406-479e-9690-c38f6fb4eb7a",
      "metadata": {
        "colab": {
          "base_uri": "https://localhost:8080/"
        },
        "id": "e3eeeca9-0406-479e-9690-c38f6fb4eb7a",
        "outputId": "f09c4739-7731-4173-df5f-5651b399a3ba"
      },
      "outputs": [
        {
          "output_type": "stream",
          "name": "stdout",
          "text": [
            "https://www.imdb.com/title/tt0111161/?ref_=chttp_i_1\n",
            "https://www.imdb.com/title/tt0111161/?ref_=chttp_i_1\n",
            "https://www.imdb.com/title/tt0068646/?ref_=chttp_i_2\n",
            "https://www.imdb.com/title/tt0068646/?ref_=chttp_i_2\n",
            "https://www.imdb.com/title/tt0468569/?ref_=chttp_i_3\n",
            "https://www.imdb.com/title/tt0468569/?ref_=chttp_i_3\n",
            "https://www.imdb.com/title/tt0071562/?ref_=chttp_i_4\n",
            "https://www.imdb.com/title/tt0071562/?ref_=chttp_i_4\n",
            "https://www.imdb.com/title/tt0050083/?ref_=chttp_i_5\n",
            "https://www.imdb.com/title/tt0050083/?ref_=chttp_i_5\n",
            "https://www.imdb.com/title/tt0167260/?ref_=chttp_i_6\n",
            "https://www.imdb.com/title/tt0167260/?ref_=chttp_i_6\n",
            "https://www.imdb.com/title/tt0108052/?ref_=chttp_i_7\n",
            "https://www.imdb.com/title/tt0108052/?ref_=chttp_i_7\n",
            "https://www.imdb.com/title/tt0110912/?ref_=chttp_i_8\n",
            "https://www.imdb.com/title/tt0110912/?ref_=chttp_i_8\n",
            "https://www.imdb.com/title/tt0120737/?ref_=chttp_i_9\n",
            "https://www.imdb.com/title/tt0120737/?ref_=chttp_i_9\n",
            "https://www.imdb.com/title/tt0060196/?ref_=chttp_i_10\n",
            "https://www.imdb.com/title/tt0060196/?ref_=chttp_i_10\n",
            "https://www.imdb.com/title/tt0109830/?ref_=chttp_i_11\n",
            "https://www.imdb.com/title/tt0109830/?ref_=chttp_i_11\n",
            "https://www.imdb.com/title/tt0167261/?ref_=chttp_i_12\n",
            "https://www.imdb.com/title/tt0167261/?ref_=chttp_i_12\n",
            "https://www.imdb.com/title/tt0137523/?ref_=chttp_i_13\n",
            "https://www.imdb.com/title/tt0137523/?ref_=chttp_i_13\n",
            "https://www.imdb.com/title/tt1375666/?ref_=chttp_i_14\n",
            "https://www.imdb.com/title/tt1375666/?ref_=chttp_i_14\n",
            "https://www.imdb.com/title/tt0080684/?ref_=chttp_i_15\n",
            "https://www.imdb.com/title/tt0080684/?ref_=chttp_i_15\n",
            "https://www.imdb.com/title/tt0133093/?ref_=chttp_i_16\n",
            "https://www.imdb.com/title/tt0133093/?ref_=chttp_i_16\n",
            "https://www.imdb.com/title/tt0099685/?ref_=chttp_i_17\n",
            "https://www.imdb.com/title/tt0099685/?ref_=chttp_i_17\n",
            "https://www.imdb.com/title/tt0073486/?ref_=chttp_i_18\n",
            "https://www.imdb.com/title/tt0073486/?ref_=chttp_i_18\n",
            "https://www.imdb.com/title/tt0816692/?ref_=chttp_i_19\n",
            "https://www.imdb.com/title/tt0816692/?ref_=chttp_i_19\n",
            "https://www.imdb.com/title/tt0114369/?ref_=chttp_i_20\n",
            "https://www.imdb.com/title/tt0114369/?ref_=chttp_i_20\n",
            "https://www.imdb.com/title/tt0038650/?ref_=chttp_i_21\n",
            "https://www.imdb.com/title/tt0038650/?ref_=chttp_i_21\n",
            "https://www.imdb.com/title/tt0047478/?ref_=chttp_i_22\n",
            "https://www.imdb.com/title/tt0047478/?ref_=chttp_i_22\n",
            "https://www.imdb.com/title/tt0102926/?ref_=chttp_i_23\n",
            "https://www.imdb.com/title/tt0102926/?ref_=chttp_i_23\n",
            "https://www.imdb.com/title/tt0120815/?ref_=chttp_i_24\n",
            "https://www.imdb.com/title/tt0120815/?ref_=chttp_i_24\n",
            "https://www.imdb.com/title/tt0317248/?ref_=chttp_i_25\n",
            "https://www.imdb.com/title/tt0317248/?ref_=chttp_i_25\n"
          ]
        }
      ],
      "source": [
        "#getting url of 250 movies from https://www.imdb.com/chart/top/ AND their ratings.\n",
        "import requests\n",
        "from bs4 import BeautifulSoup\n",
        "import json\n",
        "import pandas as pd\n",
        "\n",
        "# URL of the IMDb Top 250 page\n",
        "url = \"https://www.imdb.com/chart/top/\"\n",
        "\n",
        "# Fetch the page content\n",
        "headers = {\"User-Agent\": \"Mozilla/5.0\"}\n",
        "response = requests.get(url, headers=headers)\n",
        "soup = BeautifulSoup(response.content, \"html.parser\")\n",
        "\n",
        "# Locate the embedded JSON data\n",
        "script_tag = soup.find(\"script\", type=\"application/ld+json\")\n",
        "json_data = json.loads(script_tag.string)\n",
        "\n",
        "# Extract the movie list\n",
        "movie_list = json_data['itemListElement']  # This may need adjustments based on actual structure\n",
        "\n",
        "# Parse the required fields\n",
        "movies = []\n",
        "for movie in movie_list:\n",
        "    item = movie['item']\n",
        "    movies.append({\n",
        "        \"URL\": item.get(\"url\"),\n",
        "        \"Rating\": item.get(\"aggregateRating\", {}).get(\"ratingValue\"),\n",
        "    })\n"
      ]
    },
    {
      "cell_type": "code",
      "source": [
        "# Title\n",
        "import requests\n",
        "from bs4 import BeautifulSoup\n",
        "\n",
        "# URL of the movie\n",
        "url = \"https://www.imdb.com/title/tt0111161/?ref_=chttp_i_1\"\n",
        "\n",
        "# Headers to mimic a browser request\n",
        "headers = {\"User-Agent\": \"Mozilla/5.0\"}\n",
        "\n",
        "# Fetch the page\n",
        "response = requests.get(url, headers=headers)\n",
        "soup = BeautifulSoup(response.content, \"html.parser\")\n",
        "\n",
        "# Find the title using the data-testid attribute\n",
        "title = soup.find(\"h1\", {\"data-testid\": \"hero__pageTitle\"}).get_text(strip=True)\n",
        "\n",
        "print(\"Movie Title:\", title)\n"
      ],
      "metadata": {
        "colab": {
          "base_uri": "https://localhost:8080/"
        },
        "id": "r2X1ExgIN3dr",
        "outputId": "3f305243-531a-4c06-92eb-80ffc8a50400"
      },
      "id": "r2X1ExgIN3dr",
      "execution_count": 4,
      "outputs": [
        {
          "output_type": "stream",
          "name": "stdout",
          "text": [
            "Movie Title: The Shawshank Redemption\n"
          ]
        }
      ]
    },
    {
      "cell_type": "code",
      "source": [
        "# Release Year\n",
        "\n",
        "import requests\n",
        "from bs4 import BeautifulSoup\n",
        "\n",
        "# URL of the movie\n",
        "url = \"https://www.imdb.com/title/tt0111161/\"\n",
        "\n",
        "# Headers to mimic a browser request\n",
        "headers = {\"User-Agent\": \"Mozilla/5.0\"}\n",
        "\n",
        "# Fetch the page\n",
        "response = requests.get(url, headers=headers)\n",
        "soup = BeautifulSoup(response.content, \"html.parser\")\n",
        "\n",
        "# Search for the <ul> containing the year dynamically\n",
        "ul_tags = soup.find_all(\"ul\", {\"class\": \"ipc-inline-list\"})  # Find all <ul> tags with this base class\n",
        "\n",
        "release_year = None\n",
        "for ul in ul_tags:\n",
        "    li = ul.find(\"li\")  # Look for <li> within each <ul>\n",
        "    if li:\n",
        "        a = li.find(\"a\")  # Look for <a> within the <li>\n",
        "        if a and a.get_text().isdigit():  # Check if text is a digit (likely the year)\n",
        "            release_year = a.get_text(strip=True)\n",
        "            break\n",
        "\n",
        "if release_year:\n",
        "    print(\"Release Year:\", release_year)\n",
        "else:\n",
        "    print(\"Release Year not found.\")\n"
      ],
      "metadata": {
        "colab": {
          "base_uri": "https://localhost:8080/"
        },
        "id": "HaRivXZhRfbW",
        "outputId": "e44bbffc-1d4e-4094-8ed1-9c8f98a9a409"
      },
      "id": "HaRivXZhRfbW",
      "execution_count": 39,
      "outputs": [
        {
          "output_type": "stream",
          "name": "stdout",
          "text": [
            "Release Year: 1994\n"
          ]
        }
      ]
    },
    {
      "cell_type": "code",
      "source": [
        "# Directors\n",
        "\n",
        "import requests\n",
        "from bs4 import BeautifulSoup\n",
        "\n",
        "# URL of the movie\n",
        "url = \"https://www.imdb.com/title/tt0111161\"\n",
        "\n",
        "# Headers to mimic a browser request\n",
        "headers = {\"User-Agent\": \"Mozilla/5.0\"}\n",
        "\n",
        "# Fetch the page\n",
        "response = requests.get(url, headers=headers)\n",
        "soup = BeautifulSoup(response.content, \"html.parser\")\n",
        "\n",
        "# Locate the <div> containing the directors\n",
        "directors_div = soup.find(\"div\", {\"class\": \"ipc-metadata-list-item__content-container\"})\n",
        "\n",
        "# Find the <ul> and then iterate through all <li> tags to fetch directors\n",
        "directors = []\n",
        "if directors_div:\n",
        "    ul = directors_div.find(\"ul\", {\"class\": \"ipc-inline-list\"})\n",
        "    if ul:\n",
        "        for li in ul.find_all(\"li\"):\n",
        "            a = li.find(\"a\")  # Find the <a> tag inside each <li>\n",
        "            if a:\n",
        "                directors.append(a.get_text(strip=True))\n",
        "\n",
        "print(\"Directors:\", directors)\n"
      ],
      "metadata": {
        "colab": {
          "base_uri": "https://localhost:8080/"
        },
        "id": "zFmRAru_RmwA",
        "outputId": "6847ad7e-c097-4cd8-8a99-90f66e6ff762"
      },
      "id": "zFmRAru_RmwA",
      "execution_count": 40,
      "outputs": [
        {
          "output_type": "stream",
          "name": "stdout",
          "text": [
            "Directors: ['Frank Darabont']\n"
          ]
        }
      ]
    },
    {
      "cell_type": "code",
      "source": [
        "#Genres\n",
        "\n",
        "import requests\n",
        "from bs4 import BeautifulSoup\n",
        "\n",
        "# URL of the movie\n",
        "url = \"https://www.imdb.com/title/tt0111161/?ref_=chttp_i_1\"\n",
        "\n",
        "# Headers to mimic a browser request\n",
        "headers = {\"User-Agent\": \"Mozilla/5.0\"}\n",
        "\n",
        "# Fetch the page\n",
        "response = requests.get(url, headers=headers)\n",
        "soup = BeautifulSoup(response.content, \"html.parser\")\n",
        "\n",
        "# Locate the parent <div> and extract all <a> tags with genres\n",
        "genres = []\n",
        "genre_div = soup.find(\"div\", class_=\"ipc-chip-list__scroller\")\n",
        "if genre_div:\n",
        "    for a_tag in genre_div.find_all(\"a\"):  # Look for all <a> tags inside this div\n",
        "        genres.append(a_tag.get_text(strip=True))\n",
        "\n",
        "print(\"Genres:\", genres)\n"
      ],
      "metadata": {
        "colab": {
          "base_uri": "https://localhost:8080/"
        },
        "id": "wZv9dfugTZI0",
        "outputId": "628be18a-7498-438a-df9e-35e5bc20f706"
      },
      "id": "wZv9dfugTZI0",
      "execution_count": 13,
      "outputs": [
        {
          "output_type": "stream",
          "name": "stdout",
          "text": [
            "Genres: ['Epic', 'Period Drama', 'Prison Drama', 'Drama']\n"
          ]
        }
      ]
    },
    {
      "cell_type": "code",
      "source": [
        "# Release Date\n",
        "\n",
        "import requests\n",
        "from bs4 import BeautifulSoup\n",
        "\n",
        "# URL of the movie\n",
        "url = \"https://www.imdb.com/title/tt0111161/?ref_=chttp_i_1\"\n",
        "\n",
        "# Headers to mimic a browser request\n",
        "headers = {\"User-Agent\": \"Mozilla/5.0\"}\n",
        "\n",
        "# Fetch the page\n",
        "response = requests.get(url, headers=headers)\n",
        "soup = BeautifulSoup(response.content, \"html.parser\")\n",
        "\n",
        "# Start from the outermost <ul> to locate the release date\n",
        "release_date = None\n",
        "outer_ul = soup.find(\"ul\", {\"class\": \"ipc-metadata-list ipc-metadata-list--dividers-all ipc-metadata-list--base\"})\n",
        "if outer_ul:\n",
        "    release_date_li = outer_ul.find(\"li\", {\"data-testid\": \"title-details-releasedate\"})\n",
        "    if release_date_li:\n",
        "        # Navigate into the nested structure to find the <a> tag containing the release date\n",
        "        a_tag = release_date_li.find(\"a\", {\"class\": \"ipc-metadata-list-item__list-content-item\"})\n",
        "        if a_tag:\n",
        "            release_date = a_tag.get_text(strip=True)\n",
        "\n",
        "if release_date:\n",
        "    print(\"Full Release Date:\", release_date)\n",
        "else:\n",
        "    print(\"Release Date not found.\")\n"
      ],
      "metadata": {
        "colab": {
          "base_uri": "https://localhost:8080/"
        },
        "id": "zR8UOz_uVwsd",
        "outputId": "819c3a55-f8e1-4f2d-a6a4-da5970b3646c"
      },
      "id": "zR8UOz_uVwsd",
      "execution_count": 18,
      "outputs": [
        {
          "output_type": "stream",
          "name": "stdout",
          "text": [
            "Full Release Date: October 14, 1994 (United States)\n"
          ]
        }
      ]
    },
    {
      "cell_type": "code",
      "source": [
        "## country\n",
        "import requests\n",
        "from bs4 import BeautifulSoup\n",
        "\n",
        "# URL of the movie\n",
        "url = \"https://www.imdb.com/title/tt0111161/?ref_=chttp_i_1\"\n",
        "\n",
        "# Headers to mimic a browser request\n",
        "headers = {\"User-Agent\": \"Mozilla/5.0\"}\n",
        "\n",
        "# Fetch the page\n",
        "response = requests.get(url, headers=headers)\n",
        "soup = BeautifulSoup(response.content, \"html.parser\")\n",
        "\n",
        "# Locate the outer <ul> and traverse to find the country of origin\n",
        "country_of_origin = None\n",
        "outer_ul = soup.find(\"ul\", {\"class\": \"ipc-metadata-list ipc-metadata-list--dividers-all ipc-metadata-list--base\"})\n",
        "if outer_ul:\n",
        "    country_li = outer_ul.find(\"li\", {\"data-testid\": \"title-details-origin\"})\n",
        "    if country_li:\n",
        "        # Navigate into the nested structure to find the <a> tag\n",
        "        a_tag = country_li.find(\"a\", {\"class\": \"ipc-metadata-list-item__list-content-item\"})\n",
        "        if a_tag:\n",
        "            country_of_origin = a_tag.get_text(strip=True)\n",
        "\n",
        "if country_of_origin:\n",
        "    print(\"Country of Origin:\", country_of_origin)\n",
        "else:\n",
        "    print(\"Country of Origin not found.\")\n"
      ],
      "metadata": {
        "colab": {
          "base_uri": "https://localhost:8080/"
        },
        "id": "4QVXt1joV4GH",
        "outputId": "6d7a3167-7622-473a-9ad5-1a44965c0d23"
      },
      "id": "4QVXt1joV4GH",
      "execution_count": 20,
      "outputs": [
        {
          "output_type": "stream",
          "name": "stdout",
          "text": [
            "Country of Origin: United States\n"
          ]
        }
      ]
    },
    {
      "cell_type": "code",
      "source": [
        "# official sites\n",
        "\n",
        "import requests\n",
        "from bs4 import BeautifulSoup\n",
        "\n",
        "# URL of the movie\n",
        "url = \"https://www.imdb.com/title/tt0111161/?ref_=chttp_i_1\"\n",
        "\n",
        "# Headers to mimic a browser request\n",
        "headers = {\"User-Agent\": \"Mozilla/5.0\"}\n",
        "\n",
        "# Fetch the page\n",
        "response = requests.get(url, headers=headers)\n",
        "soup = BeautifulSoup(response.content, \"html.parser\")\n",
        "\n",
        "# Broad search for all <a> tags in the metadata list\n",
        "official_site_urls = []\n",
        "metadata_section = soup.find(\"ul\", {\"class\": \"ipc-metadata-list ipc-metadata-list--dividers-all ipc-metadata-list--base\"})\n",
        "if metadata_section:\n",
        "    # Search all <a> tags within this section\n",
        "    for a_tag in metadata_section.find_all(\"a\"):\n",
        "        # Check if the link looks like an official site (contains \"https://\") and has a non-empty name\n",
        "        href = a_tag.get(\"href\", \"\").strip()\n",
        "        name = a_tag.get_text(strip=True)\n",
        "        if \"https://\" in href and name:  # Ensure the URL is valid and the name isn't empty\n",
        "            official_site_urls.append(href)\n",
        "\n",
        "# Remove duplicates, if any\n",
        "official_site_urls = list(set(official_site_urls))\n",
        "\n",
        "if official_site_urls:\n",
        "    print(\"Official Site URLs:\", official_site_urls)\n",
        "else:\n",
        "    print(\"Official Sites not found.\")\n"
      ],
      "metadata": {
        "colab": {
          "base_uri": "https://localhost:8080/"
        },
        "id": "hvxx_dobYqH_",
        "outputId": "d364fef6-83ee-40df-e9c7-70b1962a1710"
      },
      "id": "hvxx_dobYqH_",
      "execution_count": 26,
      "outputs": [
        {
          "output_type": "stream",
          "name": "stdout",
          "text": [
            "Official Site URLs: ['https://www.facebook.com/shawshankredemptionfilm/', 'https://www.warnerbros.com/movies/shawshank-redemption', 'https://pro.imdb.com/title/tt0111161/companycredits?rf=cons_tt_cocred_tt&ref_=cons_tt_cocred_tt']\n"
          ]
        }
      ]
    },
    {
      "cell_type": "code",
      "source": [
        "#languages\n",
        "\n",
        "import requests\n",
        "from bs4 import BeautifulSoup\n",
        "\n",
        "# URL of the movie\n",
        "url = \"https://www.imdb.com/title/tt0111161/?ref_=chttp_i_1\"\n",
        "\n",
        "# Headers to mimic a browser request\n",
        "headers = {\"User-Agent\": \"Mozilla/5.0\"}\n",
        "\n",
        "# Fetch the page\n",
        "response = requests.get(url, headers=headers)\n",
        "soup = BeautifulSoup(response.content, \"html.parser\")\n",
        "\n",
        "# Locate the outer <ul> and traverse to find the languages\n",
        "languages = []\n",
        "outer_ul = soup.find(\"ul\", {\"class\": \"ipc-metadata-list ipc-metadata-list--dividers-all ipc-metadata-list--base\"})\n",
        "if outer_ul:\n",
        "    languages_li = outer_ul.find(\"li\", {\"data-testid\": \"title-details-languages\"})\n",
        "    if languages_li:\n",
        "        # Navigate into the nested structure to find the <a> tags for each language\n",
        "        inner_div = languages_li.find(\"div\", {\"class\": \"ipc-metadata-list-item__content-container\"})\n",
        "        if inner_div:\n",
        "            inner_ul = inner_div.find(\"ul\")\n",
        "            if inner_ul:\n",
        "                for li in inner_ul.find_all(\"li\"):\n",
        "                    a_tag = li.find(\"a\")\n",
        "                    if a_tag:\n",
        "                        language = a_tag.get_text(strip=True)\n",
        "                        languages.append(language)\n",
        "\n",
        "if languages:\n",
        "    print(\"Languages:\", languages)\n",
        "else:\n",
        "    print(\"Languages not found.\")\n"
      ],
      "metadata": {
        "colab": {
          "base_uri": "https://localhost:8080/"
        },
        "id": "TJQo4TxxZJXL",
        "outputId": "965c6b53-d493-42ee-bf48-b04b076638ca"
      },
      "id": "TJQo4TxxZJXL",
      "execution_count": 27,
      "outputs": [
        {
          "output_type": "stream",
          "name": "stdout",
          "text": [
            "Languages: ['English']\n"
          ]
        }
      ]
    },
    {
      "cell_type": "code",
      "source": [
        "#locations\n",
        "import requests\n",
        "from bs4 import BeautifulSoup\n",
        "\n",
        "# URL of the movie\n",
        "url = \"https://www.imdb.com/title/tt0111161/?ref_=chttp_i_1\"\n",
        "\n",
        "# Headers to mimic a browser request\n",
        "headers = {\"User-Agent\": \"Mozilla/5.0\"}\n",
        "\n",
        "# Fetch the page\n",
        "response = requests.get(url, headers=headers)\n",
        "soup = BeautifulSoup(response.content, \"html.parser\")\n",
        "\n",
        "# Locate the outer <ul> and traverse to find filming locations\n",
        "filming_locations = []\n",
        "outer_ul = soup.find(\"ul\", {\"class\": \"ipc-metadata-list ipc-metadata-list--dividers-all ipc-metadata-list--base\"})\n",
        "if outer_ul:\n",
        "    locations_li = outer_ul.find(\"li\", {\"data-testid\": \"title-details-filminglocations\"})\n",
        "    if locations_li:\n",
        "        # Navigate into the nested structure to find the <a> tags for filming locations\n",
        "        inner_div = locations_li.find(\"div\", {\"class\": \"ipc-metadata-list-item__content-container\"})\n",
        "        if inner_div:\n",
        "            inner_ul = inner_div.find(\"ul\")\n",
        "            if inner_ul:\n",
        "                for li in inner_ul.find_all(\"li\"):\n",
        "                    a_tag = li.find(\"a\")\n",
        "                    if a_tag:\n",
        "                        location = a_tag.get_text(strip=True)\n",
        "                        filming_locations.append(location)\n",
        "\n",
        "if filming_locations:\n",
        "    print(\"Filming Locations:\", filming_locations)\n",
        "else:\n",
        "    print(\"Filming Locations not found.\")\n"
      ],
      "metadata": {
        "colab": {
          "base_uri": "https://localhost:8080/"
        },
        "id": "SZuXiMQ1ZuCD",
        "outputId": "d88b7668-1e34-4bf0-f0a8-b881a0d26ebb"
      },
      "id": "SZuXiMQ1ZuCD",
      "execution_count": 28,
      "outputs": [
        {
          "output_type": "stream",
          "name": "stdout",
          "text": [
            "Filming Locations: ['Mansfield Reformatory - 100 Reformatory Road, Mansfield, Ohio, USA']\n"
          ]
        }
      ]
    },
    {
      "cell_type": "code",
      "source": [
        "#production company\n",
        "import requests\n",
        "from bs4 import BeautifulSoup\n",
        "\n",
        "# URL of the movie\n",
        "url = \"https://www.imdb.com/title/tt0133093/?ref_=chttp_i_16\"\n",
        "\n",
        "# Headers to mimic a browser request\n",
        "headers = {\"User-Agent\": \"Mozilla/5.0\"}\n",
        "\n",
        "# Fetch the page\n",
        "response = requests.get(url, headers=headers)\n",
        "soup = BeautifulSoup(response.content, \"html.parser\")\n",
        "\n",
        "# Locate the outer <ul> and traverse to find production companies\n",
        "production_companies = []\n",
        "outer_ul = soup.find(\"ul\", {\"class\": \"ipc-metadata-list ipc-metadata-list--dividers-all ipc-metadata-list--base\"})\n",
        "if outer_ul:\n",
        "    companies_li = outer_ul.find(\"li\", {\"data-testid\": \"title-details-companies\"})\n",
        "    if companies_li:\n",
        "        # Navigate into the nested structure to find the <a> tags for production companies\n",
        "        inner_div = companies_li.find(\"div\", {\"class\": \"ipc-metadata-list-item__content-container\"})\n",
        "        if inner_div:\n",
        "            inner_ul = inner_div.find(\"ul\")\n",
        "            if inner_ul:\n",
        "                for li in inner_ul.find_all(\"li\"):\n",
        "                    a_tag = li.find(\"a\")\n",
        "                    if a_tag:\n",
        "                        company = a_tag.get_text(strip=True)\n",
        "                        production_companies.append(company)\n",
        "\n",
        "if production_companies:\n",
        "    print(\"Production Companies:\", production_companies)\n",
        "else:\n",
        "    print(\"Production Companies not found.\")\n"
      ],
      "metadata": {
        "colab": {
          "base_uri": "https://localhost:8080/"
        },
        "id": "6O8pmof7aNQV",
        "outputId": "813af7dc-0ec3-45ea-e941-867f616d7acb"
      },
      "id": "6O8pmof7aNQV",
      "execution_count": 30,
      "outputs": [
        {
          "output_type": "stream",
          "name": "stdout",
          "text": [
            "Production Companies: ['Warner Bros.', 'Village Roadshow Pictures', 'Groucho Film Partnership']\n"
          ]
        }
      ]
    },
    {
      "cell_type": "code",
      "source": [
        "#Budget\n",
        "\n",
        "import requests\n",
        "from bs4 import BeautifulSoup\n",
        "\n",
        "# URL of the movie\n",
        "url = \"https://www.imdb.com/title/tt0133093/?ref_=chttp_i_16\"\n",
        "\n",
        "# Headers to mimic a browser request\n",
        "headers = {\"User-Agent\": \"Mozilla/5.0\"}\n",
        "\n",
        "# Fetch the page\n",
        "response = requests.get(url, headers=headers)\n",
        "soup = BeautifulSoup(response.content, \"html.parser\")\n",
        "\n",
        "# Locate the box office section and traverse to find the budget\n",
        "budget = None\n",
        "box_office_section = soup.find(\"div\", {\"data-testid\": \"title-boxoffice-section\"})\n",
        "if box_office_section:\n",
        "    budget_li = box_office_section.find(\"li\", {\"data-testid\": \"title-boxoffice-budget\"})\n",
        "    if budget_li:\n",
        "        # Navigate into the nested structure to find the budget value\n",
        "        inner_div = budget_li.find(\"div\", {\"class\": \"ipc-metadata-list-item__content-container\"})\n",
        "        if inner_div:\n",
        "            inner_ul = inner_div.find(\"ul\")\n",
        "            if inner_ul:\n",
        "                budget_li = inner_ul.find(\"li\")\n",
        "                if budget_li:\n",
        "                    budget_span = budget_li.find(\"span\")\n",
        "                    if budget_span:\n",
        "                        budget = budget_span.get_text(strip=True)\n",
        "\n",
        "if budget:\n",
        "    print(\"Budget:\", budget)\n",
        "else:\n",
        "    print(\"Budget not found.\")\n"
      ],
      "metadata": {
        "colab": {
          "base_uri": "https://localhost:8080/"
        },
        "id": "2tItLs5pbDH2",
        "outputId": "7cd4d364-17ba-41fc-f72f-186f2e510f70"
      },
      "id": "2tItLs5pbDH2",
      "execution_count": 32,
      "outputs": [
        {
          "output_type": "stream",
          "name": "stdout",
          "text": [
            "Budget: $63,000,000 (estimated)\n"
          ]
        }
      ]
    },
    {
      "cell_type": "code",
      "source": [
        "#gross worlwide revenue\n",
        "\n",
        "import requests\n",
        "from bs4 import BeautifulSoup\n",
        "\n",
        "# URL of the movie\n",
        "url = \"https://www.imdb.com/title/tt0111161/?ref_=chttp_i_1\"\n",
        "\n",
        "# Headers to mimic a browser request\n",
        "headers = {\"User-Agent\": \"Mozilla/5.0\"}\n",
        "\n",
        "# Fetch the page\n",
        "response = requests.get(url, headers=headers)\n",
        "soup = BeautifulSoup(response.content, \"html.parser\")\n",
        "\n",
        "# Locate the box office section and traverse to find the gross worldwide revenue\n",
        "gross_worldwide_revenue = None\n",
        "box_office_section = soup.find(\"div\", {\"data-testid\": \"title-boxoffice-section\"})\n",
        "if box_office_section:\n",
        "    revenue_li = box_office_section.find(\"li\", {\"data-testid\": \"title-boxoffice-cumulativeworldwidegross\"})\n",
        "    if revenue_li:\n",
        "        # Navigate into the nested structure to find the revenue value\n",
        "        inner_div = revenue_li.find(\"div\", {\"class\": \"ipc-metadata-list-item__content-container\"})\n",
        "        if inner_div:\n",
        "            inner_ul = inner_div.find(\"ul\")\n",
        "            if inner_ul:\n",
        "                revenue_li = inner_ul.find(\"li\")\n",
        "                if revenue_li:\n",
        "                    revenue_span = revenue_li.find(\"span\")\n",
        "                    if revenue_span:\n",
        "                        gross_worldwide_revenue = revenue_span.get_text(strip=True)\n",
        "\n",
        "if gross_worldwide_revenue:\n",
        "    print(\"Gross Worldwide Revenue:\", gross_worldwide_revenue)\n",
        "else:\n",
        "    print(\"Gross Worldwide Revenue not found.\")\n"
      ],
      "metadata": {
        "colab": {
          "base_uri": "https://localhost:8080/"
        },
        "id": "HnL4pIRwcHTs",
        "outputId": "dc8b2c6c-ad43-4e6b-c930-4e924bf921bb"
      },
      "id": "HnL4pIRwcHTs",
      "execution_count": 33,
      "outputs": [
        {
          "output_type": "stream",
          "name": "stdout",
          "text": [
            "Gross Worldwide Revenue: $29,332,133\n"
          ]
        }
      ]
    },
    {
      "cell_type": "code",
      "source": [],
      "metadata": {
        "id": "KZrjowNZcjkF"
      },
      "id": "KZrjowNZcjkF",
      "execution_count": null,
      "outputs": []
    }
  ],
  "metadata": {
    "kernelspec": {
      "display_name": "Python 3 (ipykernel)",
      "language": "python",
      "name": "python3"
    },
    "language_info": {
      "codemirror_mode": {
        "name": "ipython",
        "version": 3
      },
      "file_extension": ".py",
      "mimetype": "text/x-python",
      "name": "python",
      "nbconvert_exporter": "python",
      "pygments_lexer": "ipython3",
      "version": "3.11.7"
    },
    "colab": {
      "provenance": []
    }
  },
  "nbformat": 4,
  "nbformat_minor": 5
}